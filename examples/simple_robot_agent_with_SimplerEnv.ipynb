{
  "cells": [
    {
      "cell_type": "markdown",
      "source": [
        "**Welcome to the example simple robot agent Colab from Mbodi!**\n",
        "\n",
        "This colab a minimal example demonstrating how to use mbodied-agents for a simple intelligent robot agent and output actions based on the observation and human instruction."
      ],
      "metadata": {
        "id": "88hGoYTDe470"
      }
    },
    {
      "cell_type": "code",
      "source": [
        "#@title [!Important]Please use a GPU runtime.\n",
        "!nvidia-smi"
      ],
      "metadata": {
        "id": "9njXgvQjuyvo",
        "colab": {
          "base_uri": "https://localhost:8080/"
        },
        "outputId": "a481c841-1053-4d5b-d221-b832387290c2"
      },
      "execution_count": 1,
      "outputs": [
        {
          "output_type": "stream",
          "name": "stdout",
          "text": [
            "Wed Jun  5 23:37:09 2024       \n",
            "+---------------------------------------------------------------------------------------+\n",
            "| NVIDIA-SMI 535.104.05             Driver Version: 535.104.05   CUDA Version: 12.2     |\n",
            "|-----------------------------------------+----------------------+----------------------+\n",
            "| GPU  Name                 Persistence-M | Bus-Id        Disp.A | Volatile Uncorr. ECC |\n",
            "| Fan  Temp   Perf          Pwr:Usage/Cap |         Memory-Usage | GPU-Util  Compute M. |\n",
            "|                                         |                      |               MIG M. |\n",
            "|=========================================+======================+======================|\n",
            "|   0  NVIDIA L4                      Off | 00000000:00:03.0 Off |                    0 |\n",
            "| N/A   57C    P8              13W /  72W |      1MiB / 23034MiB |      0%      Default |\n",
            "|                                         |                      |                  N/A |\n",
            "+-----------------------------------------+----------------------+----------------------+\n",
            "                                                                                         \n",
            "+---------------------------------------------------------------------------------------+\n",
            "| Processes:                                                                            |\n",
            "|  GPU   GI   CI        PID   Type   Process name                            GPU Memory |\n",
            "|        ID   ID                                                             Usage      |\n",
            "|=======================================================================================|\n",
            "|  No running processes found                                                           |\n",
            "+---------------------------------------------------------------------------------------+\n"
          ]
        }
      ]
    },
    {
      "cell_type": "markdown",
      "source": [
        "#Mbodied Agents Setup"
      ],
      "metadata": {
        "id": "6iXR3jIpkKa0"
      }
    },
    {
      "cell_type": "markdown",
      "source": [
        "## Clone the Mbodied Agents Repo\n"
      ],
      "metadata": {
        "id": "SauUHjlHj667"
      }
    },
    {
      "cell_type": "code",
      "execution_count": 2,
      "metadata": {
        "colab": {
          "base_uri": "https://localhost:8080/"
        },
        "id": "CGwuUWC86VlQ",
        "outputId": "0105b9cc-fe3b-4805-c073-88342cfbcd1d"
      },
      "outputs": [
        {
          "output_type": "stream",
          "name": "stdout",
          "text": [
            "Cloning into 'mbodied-agents'...\n",
            "remote: Enumerating objects: 232, done.\u001b[K\n",
            "remote: Counting objects: 100% (64/64), done.\u001b[K\n",
            "remote: Compressing objects: 100% (39/39), done.\u001b[K\n",
            "remote: Total 232 (delta 38), reused 25 (delta 25), pack-reused 168\u001b[K\n",
            "Receiving objects: 100% (232/232), 47.13 MiB | 10.92 MiB/s, done.\n",
            "Resolving deltas: 100% (105/105), done.\n",
            "/content/mbodied-agents\n"
          ]
        }
      ],
      "source": [
        "!git clone https://github.com/MbodiAI/mbodied-agents.git\n",
        "%cd mbodied-agents"
      ]
    },
    {
      "cell_type": "markdown",
      "metadata": {
        "id": "3y6nrFmeHbSg"
      },
      "source": [
        "## Install Mbodied Agents Dependencies"
      ]
    },
    {
      "cell_type": "code",
      "execution_count": 3,
      "metadata": {
        "colab": {
          "base_uri": "https://localhost:8080/"
        },
        "id": "9Xe7ubb27WQO",
        "outputId": "9c08c910-9a4d-4409-f133-22f71bfd11eb"
      },
      "outputs": [
        {
          "output_type": "stream",
          "name": "stdout",
          "text": [
            "Collecting coverage[toml]\n",
            "  Downloading coverage-7.5.3-cp310-cp310-manylinux_2_5_x86_64.manylinux1_x86_64.manylinux_2_17_x86_64.manylinux2014_x86_64.whl (231 kB)\n",
            "\u001b[?25l     \u001b[90m━━━━━━━━━━━━━━━━━━━━━━━━━━━━━━━━━━━━━━━━\u001b[0m \u001b[32m0.0/231.6 kB\u001b[0m \u001b[31m?\u001b[0m eta \u001b[36m-:--:--\u001b[0m\r\u001b[2K     \u001b[91m━━━━━━━━━━━━━━━━━━━━━━━━━━━━━━━━━━━━━━\u001b[0m\u001b[91m╸\u001b[0m\u001b[90m━\u001b[0m \u001b[32m225.3/231.6 kB\u001b[0m \u001b[31m6.8 MB/s\u001b[0m eta \u001b[36m0:00:01\u001b[0m\r\u001b[2K     \u001b[90m━━━━━━━━━━━━━━━━━━━━━━━━━━━━━━━━━━━━━━━━\u001b[0m \u001b[32m231.6/231.6 kB\u001b[0m \u001b[31m5.7 MB/s\u001b[0m eta \u001b[36m0:00:00\u001b[0m\n",
            "\u001b[?25hRequirement already satisfied: tomli in /usr/local/lib/python3.10/dist-packages (from coverage[toml]) (2.0.1)\n",
            "Installing collected packages: coverage\n",
            "Successfully installed coverage-7.5.3\n",
            "Requirement already satisfied: toml in /usr/local/lib/python3.10/dist-packages (0.10.2)\n",
            "Requirement already satisfied: gym in /usr/local/lib/python3.10/dist-packages (0.25.2)\n",
            "Requirement already satisfied: numpy>=1.18.0 in /usr/local/lib/python3.10/dist-packages (from gym) (1.25.2)\n",
            "Requirement already satisfied: cloudpickle>=1.2.0 in /usr/local/lib/python3.10/dist-packages (from gym) (2.2.1)\n",
            "Requirement already satisfied: gym-notices>=0.0.4 in /usr/local/lib/python3.10/dist-packages (from gym) (0.0.8)\n",
            "Requirement already satisfied: pillow in /usr/local/lib/python3.10/dist-packages (9.4.0)\n",
            "Requirement already satisfied: numpy in /usr/local/lib/python3.10/dist-packages (1.25.2)\n",
            "Requirement already satisfied: opencv-python in /usr/local/lib/python3.10/dist-packages (4.8.0.76)\n",
            "Requirement already satisfied: numpy>=1.21.2 in /usr/local/lib/python3.10/dist-packages (from opencv-python) (1.25.2)\n",
            "Collecting anthropic\n",
            "  Downloading anthropic-0.28.0-py3-none-any.whl (862 kB)\n",
            "\u001b[2K     \u001b[90m━━━━━━━━━━━━━━━━━━━━━━━━━━━━━━━━━━━━━━━━\u001b[0m \u001b[32m862.7/862.7 kB\u001b[0m \u001b[31m18.6 MB/s\u001b[0m eta \u001b[36m0:00:00\u001b[0m\n",
            "\u001b[?25hRequirement already satisfied: anyio<5,>=3.5.0 in /usr/local/lib/python3.10/dist-packages (from anthropic) (3.7.1)\n",
            "Requirement already satisfied: distro<2,>=1.7.0 in /usr/lib/python3/dist-packages (from anthropic) (1.7.0)\n",
            "Collecting httpx<1,>=0.23.0 (from anthropic)\n",
            "  Downloading httpx-0.27.0-py3-none-any.whl (75 kB)\n",
            "\u001b[2K     \u001b[90m━━━━━━━━━━━━━━━━━━━━━━━━━━━━━━━━━━━━━━━━\u001b[0m \u001b[32m75.6/75.6 kB\u001b[0m \u001b[31m10.9 MB/s\u001b[0m eta \u001b[36m0:00:00\u001b[0m\n",
            "\u001b[?25hCollecting jiter<1,>=0.4.0 (from anthropic)\n",
            "  Downloading jiter-0.4.1-cp310-cp310-manylinux_2_17_x86_64.manylinux2014_x86_64.whl (328 kB)\n",
            "\u001b[2K     \u001b[90m━━━━━━━━━━━━━━━━━━━━━━━━━━━━━━━━━━━━━━━━\u001b[0m \u001b[32m328.3/328.3 kB\u001b[0m \u001b[31m31.6 MB/s\u001b[0m eta \u001b[36m0:00:00\u001b[0m\n",
            "\u001b[?25hRequirement already satisfied: pydantic<3,>=1.9.0 in /usr/local/lib/python3.10/dist-packages (from anthropic) (2.7.3)\n",
            "Requirement already satisfied: sniffio in /usr/local/lib/python3.10/dist-packages (from anthropic) (1.3.1)\n",
            "Requirement already satisfied: tokenizers>=0.13.0 in /usr/local/lib/python3.10/dist-packages (from anthropic) (0.19.1)\n",
            "Requirement already satisfied: typing-extensions<5,>=4.7 in /usr/local/lib/python3.10/dist-packages (from anthropic) (4.12.1)\n",
            "Requirement already satisfied: idna>=2.8 in /usr/local/lib/python3.10/dist-packages (from anyio<5,>=3.5.0->anthropic) (3.7)\n",
            "Requirement already satisfied: exceptiongroup in /usr/local/lib/python3.10/dist-packages (from anyio<5,>=3.5.0->anthropic) (1.2.1)\n",
            "Requirement already satisfied: certifi in /usr/local/lib/python3.10/dist-packages (from httpx<1,>=0.23.0->anthropic) (2024.6.2)\n",
            "Collecting httpcore==1.* (from httpx<1,>=0.23.0->anthropic)\n",
            "  Downloading httpcore-1.0.5-py3-none-any.whl (77 kB)\n",
            "\u001b[2K     \u001b[90m━━━━━━━━━━━━━━━━━━━━━━━━━━━━━━━━━━━━━━━━\u001b[0m \u001b[32m77.9/77.9 kB\u001b[0m \u001b[31m10.7 MB/s\u001b[0m eta \u001b[36m0:00:00\u001b[0m\n",
            "\u001b[?25hCollecting h11<0.15,>=0.13 (from httpcore==1.*->httpx<1,>=0.23.0->anthropic)\n",
            "  Downloading h11-0.14.0-py3-none-any.whl (58 kB)\n",
            "\u001b[2K     \u001b[90m━━━━━━━━━━━━━━━━━━━━━━━━━━━━━━━━━━━━━━━━\u001b[0m \u001b[32m58.3/58.3 kB\u001b[0m \u001b[31m9.1 MB/s\u001b[0m eta \u001b[36m0:00:00\u001b[0m\n",
            "\u001b[?25hRequirement already satisfied: annotated-types>=0.4.0 in /usr/local/lib/python3.10/dist-packages (from pydantic<3,>=1.9.0->anthropic) (0.7.0)\n",
            "Requirement already satisfied: pydantic-core==2.18.4 in /usr/local/lib/python3.10/dist-packages (from pydantic<3,>=1.9.0->anthropic) (2.18.4)\n",
            "Requirement already satisfied: huggingface-hub<1.0,>=0.16.4 in /usr/local/lib/python3.10/dist-packages (from tokenizers>=0.13.0->anthropic) (0.23.2)\n",
            "Requirement already satisfied: filelock in /usr/local/lib/python3.10/dist-packages (from huggingface-hub<1.0,>=0.16.4->tokenizers>=0.13.0->anthropic) (3.14.0)\n",
            "Requirement already satisfied: fsspec>=2023.5.0 in /usr/local/lib/python3.10/dist-packages (from huggingface-hub<1.0,>=0.16.4->tokenizers>=0.13.0->anthropic) (2023.6.0)\n",
            "Requirement already satisfied: packaging>=20.9 in /usr/local/lib/python3.10/dist-packages (from huggingface-hub<1.0,>=0.16.4->tokenizers>=0.13.0->anthropic) (24.0)\n",
            "Requirement already satisfied: pyyaml>=5.1 in /usr/local/lib/python3.10/dist-packages (from huggingface-hub<1.0,>=0.16.4->tokenizers>=0.13.0->anthropic) (6.0.1)\n",
            "Requirement already satisfied: requests in /usr/local/lib/python3.10/dist-packages (from huggingface-hub<1.0,>=0.16.4->tokenizers>=0.13.0->anthropic) (2.31.0)\n",
            "Requirement already satisfied: tqdm>=4.42.1 in /usr/local/lib/python3.10/dist-packages (from huggingface-hub<1.0,>=0.16.4->tokenizers>=0.13.0->anthropic) (4.66.4)\n",
            "Requirement already satisfied: charset-normalizer<4,>=2 in /usr/local/lib/python3.10/dist-packages (from requests->huggingface-hub<1.0,>=0.16.4->tokenizers>=0.13.0->anthropic) (3.3.2)\n",
            "Requirement already satisfied: urllib3<3,>=1.21.1 in /usr/local/lib/python3.10/dist-packages (from requests->huggingface-hub<1.0,>=0.16.4->tokenizers>=0.13.0->anthropic) (2.0.7)\n",
            "Installing collected packages: jiter, h11, httpcore, httpx, anthropic\n",
            "Successfully installed anthropic-0.28.0 h11-0.14.0 httpcore-1.0.5 httpx-0.27.0 jiter-0.4.1\n",
            "Collecting openai\n",
            "  Downloading openai-1.31.1-py3-none-any.whl (324 kB)\n",
            "\u001b[2K     \u001b[90m━━━━━━━━━━━━━━━━━━━━━━━━━━━━━━━━━━━━━━━━\u001b[0m \u001b[32m324.1/324.1 kB\u001b[0m \u001b[31m8.2 MB/s\u001b[0m eta \u001b[36m0:00:00\u001b[0m\n",
            "\u001b[?25hRequirement already satisfied: anyio<5,>=3.5.0 in /usr/local/lib/python3.10/dist-packages (from openai) (3.7.1)\n",
            "Requirement already satisfied: distro<2,>=1.7.0 in /usr/lib/python3/dist-packages (from openai) (1.7.0)\n",
            "Requirement already satisfied: httpx<1,>=0.23.0 in /usr/local/lib/python3.10/dist-packages (from openai) (0.27.0)\n",
            "Requirement already satisfied: pydantic<3,>=1.9.0 in /usr/local/lib/python3.10/dist-packages (from openai) (2.7.3)\n",
            "Requirement already satisfied: sniffio in /usr/local/lib/python3.10/dist-packages (from openai) (1.3.1)\n",
            "Requirement already satisfied: tqdm>4 in /usr/local/lib/python3.10/dist-packages (from openai) (4.66.4)\n",
            "Requirement already satisfied: typing-extensions<5,>=4.7 in /usr/local/lib/python3.10/dist-packages (from openai) (4.12.1)\n",
            "Requirement already satisfied: idna>=2.8 in /usr/local/lib/python3.10/dist-packages (from anyio<5,>=3.5.0->openai) (3.7)\n",
            "Requirement already satisfied: exceptiongroup in /usr/local/lib/python3.10/dist-packages (from anyio<5,>=3.5.0->openai) (1.2.1)\n",
            "Requirement already satisfied: certifi in /usr/local/lib/python3.10/dist-packages (from httpx<1,>=0.23.0->openai) (2024.6.2)\n",
            "Requirement already satisfied: httpcore==1.* in /usr/local/lib/python3.10/dist-packages (from httpx<1,>=0.23.0->openai) (1.0.5)\n",
            "Requirement already satisfied: h11<0.15,>=0.13 in /usr/local/lib/python3.10/dist-packages (from httpcore==1.*->httpx<1,>=0.23.0->openai) (0.14.0)\n",
            "Requirement already satisfied: annotated-types>=0.4.0 in /usr/local/lib/python3.10/dist-packages (from pydantic<3,>=1.9.0->openai) (0.7.0)\n",
            "Requirement already satisfied: pydantic-core==2.18.4 in /usr/local/lib/python3.10/dist-packages (from pydantic<3,>=1.9.0->openai) (2.18.4)\n",
            "Installing collected packages: openai\n",
            "Successfully installed openai-1.31.1\n",
            "Collecting backoff\n",
            "  Downloading backoff-2.2.1-py3-none-any.whl (15 kB)\n",
            "Installing collected packages: backoff\n",
            "Successfully installed backoff-2.2.1\n",
            "Requirement already satisfied: pydantic in /usr/local/lib/python3.10/dist-packages (2.7.3)\n",
            "Requirement already satisfied: annotated-types>=0.4.0 in /usr/local/lib/python3.10/dist-packages (from pydantic) (0.7.0)\n",
            "Requirement already satisfied: pydantic-core==2.18.4 in /usr/local/lib/python3.10/dist-packages (from pydantic) (2.18.4)\n",
            "Requirement already satisfied: typing-extensions>=4.6.1 in /usr/local/lib/python3.10/dist-packages (from pydantic) (4.12.1)\n",
            "Collecting pydantic_numpy\n",
            "  Downloading pydantic_numpy-5.0.2-py3-none-any.whl (19 kB)\n",
            "Collecting compress-pickle[lz4] (from pydantic_numpy)\n",
            "  Downloading compress_pickle-2.1.0-py3-none-any.whl (24 kB)\n",
            "Requirement already satisfied: numpy>=1.23.0 in /usr/local/lib/python3.10/dist-packages (from pydantic_numpy) (1.25.2)\n",
            "Requirement already satisfied: pydantic<3.0,>=2.0 in /usr/local/lib/python3.10/dist-packages (from pydantic_numpy) (2.7.3)\n",
            "Collecting ruamel-yaml<0.19.0,>=0.18.5 (from pydantic_numpy)\n",
            "  Downloading ruamel.yaml-0.18.6-py3-none-any.whl (117 kB)\n",
            "\u001b[2K     \u001b[90m━━━━━━━━━━━━━━━━━━━━━━━━━━━━━━━━━━━━━━━━\u001b[0m \u001b[32m117.8/117.8 kB\u001b[0m \u001b[31m8.6 MB/s\u001b[0m eta \u001b[36m0:00:00\u001b[0m\n",
            "\u001b[?25hCollecting semver<4.0.0,>=3.0.1 (from pydantic_numpy)\n",
            "  Downloading semver-3.0.2-py3-none-any.whl (17 kB)\n",
            "Requirement already satisfied: annotated-types>=0.4.0 in /usr/local/lib/python3.10/dist-packages (from pydantic<3.0,>=2.0->pydantic_numpy) (0.7.0)\n",
            "Requirement already satisfied: pydantic-core==2.18.4 in /usr/local/lib/python3.10/dist-packages (from pydantic<3.0,>=2.0->pydantic_numpy) (2.18.4)\n",
            "Requirement already satisfied: typing-extensions>=4.6.1 in /usr/local/lib/python3.10/dist-packages (from pydantic<3.0,>=2.0->pydantic_numpy) (4.12.1)\n",
            "Collecting ruamel.yaml.clib>=0.2.7 (from ruamel-yaml<0.19.0,>=0.18.5->pydantic_numpy)\n",
            "  Downloading ruamel.yaml.clib-0.2.8-cp310-cp310-manylinux_2_17_x86_64.manylinux2014_x86_64.manylinux_2_24_x86_64.whl (526 kB)\n",
            "\u001b[2K     \u001b[90m━━━━━━━━━━━━━━━━━━━━━━━━━━━━━━━━━━━━━━━━\u001b[0m \u001b[32m526.7/526.7 kB\u001b[0m \u001b[31m40.4 MB/s\u001b[0m eta \u001b[36m0:00:00\u001b[0m\n",
            "\u001b[?25hCollecting lz4 (from compress-pickle[lz4]->pydantic_numpy)\n",
            "  Downloading lz4-4.3.3-cp310-cp310-manylinux_2_17_x86_64.manylinux2014_x86_64.whl (1.3 MB)\n",
            "\u001b[2K     \u001b[90m━━━━━━━━━━━━━━━━━━━━━━━━━━━━━━━━━━━━━━━━\u001b[0m \u001b[32m1.3/1.3 MB\u001b[0m \u001b[31m76.3 MB/s\u001b[0m eta \u001b[36m0:00:00\u001b[0m\n",
            "\u001b[?25hInstalling collected packages: semver, ruamel.yaml.clib, lz4, compress-pickle, ruamel-yaml, pydantic_numpy\n",
            "Successfully installed compress-pickle-2.1.0 lz4-4.3.3 pydantic_numpy-5.0.2 ruamel-yaml-0.18.6 ruamel.yaml.clib-0.2.8 semver-3.0.2\n",
            "Requirement already satisfied: torch in /usr/local/lib/python3.10/dist-packages (2.3.0+cu121)\n",
            "Requirement already satisfied: filelock in /usr/local/lib/python3.10/dist-packages (from torch) (3.14.0)\n",
            "Requirement already satisfied: typing-extensions>=4.8.0 in /usr/local/lib/python3.10/dist-packages (from torch) (4.12.1)\n",
            "Requirement already satisfied: sympy in /usr/local/lib/python3.10/dist-packages (from torch) (1.12.1)\n",
            "Requirement already satisfied: networkx in /usr/local/lib/python3.10/dist-packages (from torch) (3.3)\n",
            "Requirement already satisfied: jinja2 in /usr/local/lib/python3.10/dist-packages (from torch) (3.1.4)\n",
            "Requirement already satisfied: fsspec in /usr/local/lib/python3.10/dist-packages (from torch) (2023.6.0)\n",
            "Collecting nvidia-cuda-nvrtc-cu12==12.1.105 (from torch)\n",
            "  Using cached nvidia_cuda_nvrtc_cu12-12.1.105-py3-none-manylinux1_x86_64.whl (23.7 MB)\n",
            "Collecting nvidia-cuda-runtime-cu12==12.1.105 (from torch)\n",
            "  Using cached nvidia_cuda_runtime_cu12-12.1.105-py3-none-manylinux1_x86_64.whl (823 kB)\n",
            "Collecting nvidia-cuda-cupti-cu12==12.1.105 (from torch)\n",
            "  Using cached nvidia_cuda_cupti_cu12-12.1.105-py3-none-manylinux1_x86_64.whl (14.1 MB)\n",
            "Collecting nvidia-cudnn-cu12==8.9.2.26 (from torch)\n",
            "  Using cached nvidia_cudnn_cu12-8.9.2.26-py3-none-manylinux1_x86_64.whl (731.7 MB)\n",
            "Collecting nvidia-cublas-cu12==12.1.3.1 (from torch)\n",
            "  Using cached nvidia_cublas_cu12-12.1.3.1-py3-none-manylinux1_x86_64.whl (410.6 MB)\n",
            "Collecting nvidia-cufft-cu12==11.0.2.54 (from torch)\n",
            "  Using cached nvidia_cufft_cu12-11.0.2.54-py3-none-manylinux1_x86_64.whl (121.6 MB)\n",
            "Collecting nvidia-curand-cu12==10.3.2.106 (from torch)\n",
            "  Using cached nvidia_curand_cu12-10.3.2.106-py3-none-manylinux1_x86_64.whl (56.5 MB)\n",
            "Collecting nvidia-cusolver-cu12==11.4.5.107 (from torch)\n",
            "  Using cached nvidia_cusolver_cu12-11.4.5.107-py3-none-manylinux1_x86_64.whl (124.2 MB)\n",
            "Collecting nvidia-cusparse-cu12==12.1.0.106 (from torch)\n",
            "  Using cached nvidia_cusparse_cu12-12.1.0.106-py3-none-manylinux1_x86_64.whl (196.0 MB)\n",
            "Collecting nvidia-nccl-cu12==2.20.5 (from torch)\n",
            "  Using cached nvidia_nccl_cu12-2.20.5-py3-none-manylinux2014_x86_64.whl (176.2 MB)\n",
            "Collecting nvidia-nvtx-cu12==12.1.105 (from torch)\n",
            "  Using cached nvidia_nvtx_cu12-12.1.105-py3-none-manylinux1_x86_64.whl (99 kB)\n",
            "Requirement already satisfied: triton==2.3.0 in /usr/local/lib/python3.10/dist-packages (from torch) (2.3.0)\n",
            "Collecting nvidia-nvjitlink-cu12 (from nvidia-cusolver-cu12==11.4.5.107->torch)\n",
            "  Downloading nvidia_nvjitlink_cu12-12.5.40-py3-none-manylinux2014_x86_64.whl (21.3 MB)\n",
            "\u001b[2K     \u001b[90m━━━━━━━━━━━━━━━━━━━━━━━━━━━━━━━━━━━━━━━━\u001b[0m \u001b[32m21.3/21.3 MB\u001b[0m \u001b[31m75.6 MB/s\u001b[0m eta \u001b[36m0:00:00\u001b[0m\n",
            "\u001b[?25hRequirement already satisfied: MarkupSafe>=2.0 in /usr/local/lib/python3.10/dist-packages (from jinja2->torch) (2.1.5)\n",
            "Requirement already satisfied: mpmath<1.4.0,>=1.1.0 in /usr/local/lib/python3.10/dist-packages (from sympy->torch) (1.3.0)\n",
            "Installing collected packages: nvidia-nvtx-cu12, nvidia-nvjitlink-cu12, nvidia-nccl-cu12, nvidia-curand-cu12, nvidia-cufft-cu12, nvidia-cuda-runtime-cu12, nvidia-cuda-nvrtc-cu12, nvidia-cuda-cupti-cu12, nvidia-cublas-cu12, nvidia-cusparse-cu12, nvidia-cudnn-cu12, nvidia-cusolver-cu12\n",
            "Successfully installed nvidia-cublas-cu12-12.1.3.1 nvidia-cuda-cupti-cu12-12.1.105 nvidia-cuda-nvrtc-cu12-12.1.105 nvidia-cuda-runtime-cu12-12.1.105 nvidia-cudnn-cu12-8.9.2.26 nvidia-cufft-cu12-11.0.2.54 nvidia-curand-cu12-10.3.2.106 nvidia-cusolver-cu12-11.4.5.107 nvidia-cusparse-cu12-12.1.0.106 nvidia-nccl-cu12-2.20.5 nvidia-nvjitlink-cu12-12.5.40 nvidia-nvtx-cu12-12.1.105\n",
            "Requirement already satisfied: h5py in /usr/local/lib/python3.10/dist-packages (3.9.0)\n",
            "Requirement already satisfied: numpy>=1.17.3 in /usr/local/lib/python3.10/dist-packages (from h5py) (1.25.2)\n",
            "Collecting datasets\n",
            "  Downloading datasets-2.19.2-py3-none-any.whl (542 kB)\n",
            "\u001b[2K     \u001b[90m━━━━━━━━━━━━━━━━━━━━━━━━━━━━━━━━━━━━━━━━\u001b[0m \u001b[32m542.1/542.1 kB\u001b[0m \u001b[31m11.7 MB/s\u001b[0m eta \u001b[36m0:00:00\u001b[0m\n",
            "\u001b[?25hRequirement already satisfied: filelock in /usr/local/lib/python3.10/dist-packages (from datasets) (3.14.0)\n",
            "Requirement already satisfied: numpy>=1.17 in /usr/local/lib/python3.10/dist-packages (from datasets) (1.25.2)\n",
            "Requirement already satisfied: pyarrow>=12.0.0 in /usr/local/lib/python3.10/dist-packages (from datasets) (14.0.2)\n",
            "Requirement already satisfied: pyarrow-hotfix in /usr/local/lib/python3.10/dist-packages (from datasets) (0.6)\n",
            "Collecting dill<0.3.9,>=0.3.0 (from datasets)\n",
            "  Downloading dill-0.3.8-py3-none-any.whl (116 kB)\n",
            "\u001b[2K     \u001b[90m━━━━━━━━━━━━━━━━━━━━━━━━━━━━━━━━━━━━━━━━\u001b[0m \u001b[32m116.3/116.3 kB\u001b[0m \u001b[31m18.3 MB/s\u001b[0m eta \u001b[36m0:00:00\u001b[0m\n",
            "\u001b[?25hRequirement already satisfied: pandas in /usr/local/lib/python3.10/dist-packages (from datasets) (2.0.3)\n",
            "Collecting requests>=2.32.1 (from datasets)\n",
            "  Downloading requests-2.32.3-py3-none-any.whl (64 kB)\n",
            "\u001b[2K     \u001b[90m━━━━━━━━━━━━━━━━━━━━━━━━━━━━━━━━━━━━━━━━\u001b[0m \u001b[32m64.9/64.9 kB\u001b[0m \u001b[31m9.9 MB/s\u001b[0m eta \u001b[36m0:00:00\u001b[0m\n",
            "\u001b[?25hRequirement already satisfied: tqdm>=4.62.1 in /usr/local/lib/python3.10/dist-packages (from datasets) (4.66.4)\n",
            "Collecting xxhash (from datasets)\n",
            "  Downloading xxhash-3.4.1-cp310-cp310-manylinux_2_17_x86_64.manylinux2014_x86_64.whl (194 kB)\n",
            "\u001b[2K     \u001b[90m━━━━━━━━━━━━━━━━━━━━━━━━━━━━━━━━━━━━━━━━\u001b[0m \u001b[32m194.1/194.1 kB\u001b[0m \u001b[31m25.2 MB/s\u001b[0m eta \u001b[36m0:00:00\u001b[0m\n",
            "\u001b[?25hCollecting multiprocess (from datasets)\n",
            "  Downloading multiprocess-0.70.16-py310-none-any.whl (134 kB)\n",
            "\u001b[2K     \u001b[90m━━━━━━━━━━━━━━━━━━━━━━━━━━━━━━━━━━━━━━━━\u001b[0m \u001b[32m134.8/134.8 kB\u001b[0m \u001b[31m18.7 MB/s\u001b[0m eta \u001b[36m0:00:00\u001b[0m\n",
            "\u001b[?25hRequirement already satisfied: fsspec[http]<=2024.3.1,>=2023.1.0 in /usr/local/lib/python3.10/dist-packages (from datasets) (2023.6.0)\n",
            "Requirement already satisfied: aiohttp in /usr/local/lib/python3.10/dist-packages (from datasets) (3.9.5)\n",
            "Requirement already satisfied: huggingface-hub>=0.21.2 in /usr/local/lib/python3.10/dist-packages (from datasets) (0.23.2)\n",
            "Requirement already satisfied: packaging in /usr/local/lib/python3.10/dist-packages (from datasets) (24.0)\n",
            "Requirement already satisfied: pyyaml>=5.1 in /usr/local/lib/python3.10/dist-packages (from datasets) (6.0.1)\n",
            "Requirement already satisfied: aiosignal>=1.1.2 in /usr/local/lib/python3.10/dist-packages (from aiohttp->datasets) (1.3.1)\n",
            "Requirement already satisfied: attrs>=17.3.0 in /usr/local/lib/python3.10/dist-packages (from aiohttp->datasets) (23.2.0)\n",
            "Requirement already satisfied: frozenlist>=1.1.1 in /usr/local/lib/python3.10/dist-packages (from aiohttp->datasets) (1.4.1)\n",
            "Requirement already satisfied: multidict<7.0,>=4.5 in /usr/local/lib/python3.10/dist-packages (from aiohttp->datasets) (6.0.5)\n",
            "Requirement already satisfied: yarl<2.0,>=1.0 in /usr/local/lib/python3.10/dist-packages (from aiohttp->datasets) (1.9.4)\n",
            "Requirement already satisfied: async-timeout<5.0,>=4.0 in /usr/local/lib/python3.10/dist-packages (from aiohttp->datasets) (4.0.3)\n",
            "Requirement already satisfied: typing-extensions>=3.7.4.3 in /usr/local/lib/python3.10/dist-packages (from huggingface-hub>=0.21.2->datasets) (4.12.1)\n",
            "Requirement already satisfied: charset-normalizer<4,>=2 in /usr/local/lib/python3.10/dist-packages (from requests>=2.32.1->datasets) (3.3.2)\n",
            "Requirement already satisfied: idna<4,>=2.5 in /usr/local/lib/python3.10/dist-packages (from requests>=2.32.1->datasets) (3.7)\n",
            "Requirement already satisfied: urllib3<3,>=1.21.1 in /usr/local/lib/python3.10/dist-packages (from requests>=2.32.1->datasets) (2.0.7)\n",
            "Requirement already satisfied: certifi>=2017.4.17 in /usr/local/lib/python3.10/dist-packages (from requests>=2.32.1->datasets) (2024.6.2)\n",
            "Requirement already satisfied: python-dateutil>=2.8.2 in /usr/local/lib/python3.10/dist-packages (from pandas->datasets) (2.8.2)\n",
            "Requirement already satisfied: pytz>=2020.1 in /usr/local/lib/python3.10/dist-packages (from pandas->datasets) (2023.4)\n",
            "Requirement already satisfied: tzdata>=2022.1 in /usr/local/lib/python3.10/dist-packages (from pandas->datasets) (2024.1)\n",
            "Requirement already satisfied: six>=1.5 in /usr/local/lib/python3.10/dist-packages (from python-dateutil>=2.8.2->pandas->datasets) (1.16.0)\n",
            "Installing collected packages: xxhash, requests, dill, multiprocess, datasets\n",
            "  Attempting uninstall: requests\n",
            "    Found existing installation: requests 2.31.0\n",
            "    Uninstalling requests-2.31.0:\n",
            "      Successfully uninstalled requests-2.31.0\n",
            "\u001b[31mERROR: pip's dependency resolver does not currently take into account all the packages that are installed. This behaviour is the source of the following dependency conflicts.\n",
            "google-colab 1.0.0 requires requests==2.31.0, but you have requests 2.32.3 which is incompatible.\u001b[0m\u001b[31m\n",
            "\u001b[0mSuccessfully installed datasets-2.19.2 dill-0.3.8 multiprocess-0.70.16 requests-2.32.3 xxhash-3.4.1\n",
            "Collecting art\n",
            "  Downloading art-6.2-py3-none-any.whl (601 kB)\n",
            "\u001b[2K     \u001b[90m━━━━━━━━━━━━━━━━━━━━━━━━━━━━━━━━━━━━━━━━\u001b[0m \u001b[32m601.8/601.8 kB\u001b[0m \u001b[31m11.5 MB/s\u001b[0m eta \u001b[36m0:00:00\u001b[0m\n",
            "\u001b[?25hInstalling collected packages: art\n",
            "Successfully installed art-6.2\n",
            "Collecting jsonref\n",
            "  Downloading jsonref-1.1.0-py3-none-any.whl (9.4 kB)\n",
            "Installing collected packages: jsonref\n",
            "Successfully installed jsonref-1.1.0\n",
            "Obtaining file:///content/mbodied-agents\n",
            "  Installing build dependencies ... \u001b[?25l\u001b[?25hdone\n",
            "  Checking if build backend supports build_editable ... \u001b[?25l\u001b[?25hdone\n",
            "  Getting requirements to build editable ... \u001b[?25l\u001b[?25hdone\n",
            "  Installing backend dependencies ... \u001b[?25l\u001b[?25hdone\n",
            "  Preparing editable metadata (pyproject.toml) ... \u001b[?25l\u001b[?25hdone\n",
            "Building wheels for collected packages: mbodied-agents\n",
            "  Building editable for mbodied-agents (pyproject.toml) ... \u001b[?25l\u001b[?25hdone\n",
            "  Created wheel for mbodied-agents: filename=mbodied_agents-0.0.5-py3-none-any.whl size=11404 sha256=bacae317480cce4c0e321a7bb0c6b9960223200881537cb9278c9f9679ae8470\n",
            "  Stored in directory: /tmp/pip-ephem-wheel-cache-j_iraytf/wheels/06/af/48/8c3854a4c8663a1fff05be743fdc8a2e2876d133ecb4743dae\n",
            "Successfully built mbodied-agents\n",
            "Installing collected packages: mbodied-agents\n",
            "Successfully installed mbodied-agents-0.0.5\n"
          ]
        }
      ],
      "source": [
        "!pip install coverage[toml]\n",
        "!pip install toml\n",
        "!pip install gym\n",
        "!pip install pillow\n",
        "!pip install numpy\n",
        "!pip install opencv-python\n",
        "!pip install anthropic\n",
        "!pip install openai\n",
        "!pip install backoff\n",
        "!pip install pydantic\n",
        "!pip install pydantic_numpy\n",
        "!pip install torch\n",
        "!pip install h5py\n",
        "!pip install datasets\n",
        "!pip install art\n",
        "!pip install jsonref\n",
        "# Build the mbodied-agents package.\n",
        "!pip install -e . --no-deps"
      ]
    },
    {
      "cell_type": "markdown",
      "source": [
        "# SimplerEnv Setup"
      ],
      "metadata": {
        "id": "arl1swTGkgEA"
      }
    },
    {
      "cell_type": "code",
      "source": [
        "# @title Install vulkan for rendering\n",
        "!apt-get install -yqq --no-install-recommends libvulkan-dev vulkan-tools\n",
        "# below fixes some bugs introduced by some recent Colab changes\n",
        "!mkdir -p /usr/share/vulkan/icd.d\n",
        "!wget -q -P /usr/share/vulkan/icd.d https://raw.githubusercontent.com/haosulab/ManiSkill/main/docker/nvidia_icd.json\n",
        "!wget -q -O /usr/share/glvnd/egl_vendor.d/10_nvidia.json https://raw.githubusercontent.com/haosulab/ManiSkill/main/docker/10_nvidia.json"
      ],
      "metadata": {
        "id": "2dFrk9heu3eB",
        "colab": {
          "base_uri": "https://localhost:8080/"
        },
        "outputId": "6aab9bc0-e70f-40c8-f566-c41b970ac534"
      },
      "execution_count": 4,
      "outputs": [
        {
          "output_type": "stream",
          "name": "stdout",
          "text": [
            "Selecting previously unselected package libvulkan1:amd64.\n",
            "(Reading database ... 121918 files and directories currently installed.)\n",
            "Preparing to unpack .../libvulkan1_1.3.204.1-2_amd64.deb ...\n",
            "Unpacking libvulkan1:amd64 (1.3.204.1-2) ...\n",
            "Selecting previously unselected package libvulkan-dev:amd64.\n",
            "Preparing to unpack .../libvulkan-dev_1.3.204.1-2_amd64.deb ...\n",
            "Unpacking libvulkan-dev:amd64 (1.3.204.1-2) ...\n",
            "Selecting previously unselected package vulkan-tools.\n",
            "Preparing to unpack .../vulkan-tools_1.3.204.0+dfsg1-1_amd64.deb ...\n",
            "Unpacking vulkan-tools (1.3.204.0+dfsg1-1) ...\n",
            "Setting up libvulkan1:amd64 (1.3.204.1-2) ...\n",
            "Setting up libvulkan-dev:amd64 (1.3.204.1-2) ...\n",
            "Setting up vulkan-tools (1.3.204.0+dfsg1-1) ...\n",
            "Processing triggers for libc-bin (2.35-0ubuntu3.4) ...\n",
            "/sbin/ldconfig.real: /usr/local/lib/libtbbmalloc.so.2 is not a symbolic link\n",
            "\n",
            "/sbin/ldconfig.real: /usr/local/lib/libtbbbind_2_5.so.3 is not a symbolic link\n",
            "\n",
            "/sbin/ldconfig.real: /usr/local/lib/libtbbmalloc_proxy.so.2 is not a symbolic link\n",
            "\n",
            "/sbin/ldconfig.real: /usr/local/lib/libtbbbind_2_0.so.3 is not a symbolic link\n",
            "\n",
            "/sbin/ldconfig.real: /usr/local/lib/libtbbbind.so.3 is not a symbolic link\n",
            "\n",
            "/sbin/ldconfig.real: /usr/local/lib/libtbb.so.12 is not a symbolic link\n",
            "\n",
            "Processing triggers for man-db (2.10.2-1) ...\n"
          ]
        }
      ]
    },
    {
      "cell_type": "code",
      "source": [
        "# @title Make sure vulkan is installed correctly\n",
        "!vulkaninfo | head -n 5"
      ],
      "metadata": {
        "id": "zZt0ROfcu4tl",
        "colab": {
          "base_uri": "https://localhost:8080/"
        },
        "outputId": "9b020498-1ec0-407a-f819-b8e683f139b9"
      },
      "execution_count": 5,
      "outputs": [
        {
          "output_type": "stream",
          "name": "stdout",
          "text": [
            "'DISPLAY' environment variable not set... skipping surface info\n",
            "error: XDG_RUNTIME_DIR not set in the environment.\n",
            "==========\n",
            "VULKANINFO\n",
            "==========\n",
            "\n",
            "Vulkan Instance Version: 1.3.204\n"
          ]
        }
      ]
    },
    {
      "cell_type": "code",
      "source": [
        "# @title Install Real2Sim\n",
        "!git clone https://github.com/simpler-env/ManiSkill2_real2sim.git\n",
        "!pip install -e ./ManiSkill2_real2sim\n",
        "!git clone https://github.com/simpler-env/SimplerEnv.git\n",
        "!pip install -e ./SimplerEnv\n",
        "!mkdir ./SimplerEnv/checkpoints"
      ],
      "metadata": {
        "id": "lcuTrpCIu6ky",
        "colab": {
          "base_uri": "https://localhost:8080/"
        },
        "outputId": "e8cad6f8-6528-437f-f6e9-58a981b0526f"
      },
      "execution_count": 6,
      "outputs": [
        {
          "output_type": "stream",
          "name": "stdout",
          "text": [
            "Cloning into 'ManiSkill2_real2sim'...\n",
            "remote: Enumerating objects: 3448, done.\u001b[K\n",
            "remote: Counting objects: 100% (147/147), done.\u001b[K\n",
            "remote: Compressing objects: 100% (113/113), done.\u001b[K\n",
            "remote: Total 3448 (delta 73), reused 96 (delta 34), pack-reused 3301\u001b[K\n",
            "Receiving objects: 100% (3448/3448), 188.75 MiB | 14.16 MiB/s, done.\n",
            "Resolving deltas: 100% (1833/1833), done.\n",
            "Updating files: 100% (661/661), done.\n",
            "Obtaining file:///content/mbodied-agents/ManiSkill2_real2sim\n",
            "  Installing build dependencies ... \u001b[?25l\u001b[?25hdone\n",
            "  Checking if build backend supports build_editable ... \u001b[?25l\u001b[?25hdone\n",
            "  Getting requirements to build editable ... \u001b[?25l\u001b[?25hdone\n",
            "  Installing backend dependencies ... \u001b[?25l\u001b[?25hdone\n",
            "  Preparing editable metadata (pyproject.toml) ... \u001b[?25l\u001b[?25hdone\n",
            "Requirement already satisfied: numpy in /usr/local/lib/python3.10/dist-packages (from mani_skill2_real2sim==0.5.3) (1.25.2)\n",
            "Requirement already satisfied: scipy in /usr/local/lib/python3.10/dist-packages (from mani_skill2_real2sim==0.5.3) (1.11.4)\n",
            "Collecting gymnasium>=0.28.1 (from mani_skill2_real2sim==0.5.3)\n",
            "  Downloading gymnasium-0.29.1-py3-none-any.whl (953 kB)\n",
            "\u001b[2K     \u001b[90m━━━━━━━━━━━━━━━━━━━━━━━━━━━━━━━━━━━━━━━━\u001b[0m \u001b[32m953.9/953.9 kB\u001b[0m \u001b[31m23.1 MB/s\u001b[0m eta \u001b[36m0:00:00\u001b[0m\n",
            "\u001b[?25hCollecting sapien==2.2.2 (from mani_skill2_real2sim==0.5.3)\n",
            "  Downloading sapien-2.2.2-cp310-cp310-manylinux2014_x86_64.whl (39.1 MB)\n",
            "\u001b[2K     \u001b[90m━━━━━━━━━━━━━━━━━━━━━━━━━━━━━━━━━━━━━━━━\u001b[0m \u001b[32m39.1/39.1 MB\u001b[0m \u001b[31m43.4 MB/s\u001b[0m eta \u001b[36m0:00:00\u001b[0m\n",
            "\u001b[?25hRequirement already satisfied: h5py in /usr/local/lib/python3.10/dist-packages (from mani_skill2_real2sim==0.5.3) (3.9.0)\n",
            "Requirement already satisfied: pyyaml in /usr/local/lib/python3.10/dist-packages (from mani_skill2_real2sim==0.5.3) (6.0.1)\n",
            "Requirement already satisfied: tqdm in /usr/local/lib/python3.10/dist-packages (from mani_skill2_real2sim==0.5.3) (4.66.4)\n",
            "Collecting GitPython (from mani_skill2_real2sim==0.5.3)\n",
            "  Downloading GitPython-3.1.43-py3-none-any.whl (207 kB)\n",
            "\u001b[2K     \u001b[90m━━━━━━━━━━━━━━━━━━━━━━━━━━━━━━━━━━━━━━━━\u001b[0m \u001b[32m207.3/207.3 kB\u001b[0m \u001b[31m27.4 MB/s\u001b[0m eta \u001b[36m0:00:00\u001b[0m\n",
            "\u001b[?25hRequirement already satisfied: tabulate in /usr/local/lib/python3.10/dist-packages (from mani_skill2_real2sim==0.5.3) (0.9.0)\n",
            "Requirement already satisfied: gdown>=4.6.0 in /usr/local/lib/python3.10/dist-packages (from mani_skill2_real2sim==0.5.3) (5.1.0)\n",
            "Collecting transforms3d (from mani_skill2_real2sim==0.5.3)\n",
            "  Downloading transforms3d-0.4.1-py3-none-any.whl (1.4 MB)\n",
            "\u001b[2K     \u001b[90m━━━━━━━━━━━━━━━━━━━━━━━━━━━━━━━━━━━━━━━━\u001b[0m \u001b[32m1.4/1.4 MB\u001b[0m \u001b[31m70.9 MB/s\u001b[0m eta \u001b[36m0:00:00\u001b[0m\n",
            "\u001b[?25hRequirement already satisfied: opencv-python in /usr/local/lib/python3.10/dist-packages (from mani_skill2_real2sim==0.5.3) (4.8.0.76)\n",
            "Requirement already satisfied: imageio in /usr/local/lib/python3.10/dist-packages (from mani_skill2_real2sim==0.5.3) (2.31.6)\n",
            "Collecting trimesh (from mani_skill2_real2sim==0.5.3)\n",
            "  Downloading trimesh-4.4.0-py3-none-any.whl (694 kB)\n",
            "\u001b[2K     \u001b[90m━━━━━━━━━━━━━━━━━━━━━━━━━━━━━━━━━━━━━━━━\u001b[0m \u001b[32m694.6/694.6 kB\u001b[0m \u001b[31m58.6 MB/s\u001b[0m eta \u001b[36m0:00:00\u001b[0m\n",
            "\u001b[?25hCollecting rtree (from mani_skill2_real2sim==0.5.3)\n",
            "  Downloading Rtree-1.2.0-py3-none-manylinux2014_x86_64.manylinux_2_17_x86_64.whl (535 kB)\n",
            "\u001b[2K     \u001b[90m━━━━━━━━━━━━━━━━━━━━━━━━━━━━━━━━━━━━━━━━\u001b[0m \u001b[32m535.2/535.2 kB\u001b[0m \u001b[31m45.0 MB/s\u001b[0m eta \u001b[36m0:00:00\u001b[0m\n",
            "\u001b[?25hCollecting ruckig (from mani_skill2_real2sim==0.5.3)\n",
            "  Downloading ruckig-0.12.2-cp310-cp310-manylinux_2_17_x86_64.manylinux2014_x86_64.whl (891 kB)\n",
            "\u001b[2K     \u001b[90m━━━━━━━━━━━━━━━━━━━━━━━━━━━━━━━━━━━━━━━━\u001b[0m \u001b[32m891.7/891.7 kB\u001b[0m \u001b[31m58.7 MB/s\u001b[0m eta \u001b[36m0:00:00\u001b[0m\n",
            "\u001b[?25hRequirement already satisfied: requests>=2.22 in /usr/local/lib/python3.10/dist-packages (from sapien==2.2.2->mani_skill2_real2sim==0.5.3) (2.32.3)\n",
            "Requirement already satisfied: beautifulsoup4 in /usr/local/lib/python3.10/dist-packages (from gdown>=4.6.0->mani_skill2_real2sim==0.5.3) (4.12.3)\n",
            "Requirement already satisfied: filelock in /usr/local/lib/python3.10/dist-packages (from gdown>=4.6.0->mani_skill2_real2sim==0.5.3) (3.14.0)\n",
            "Requirement already satisfied: cloudpickle>=1.2.0 in /usr/local/lib/python3.10/dist-packages (from gymnasium>=0.28.1->mani_skill2_real2sim==0.5.3) (2.2.1)\n",
            "Requirement already satisfied: typing-extensions>=4.3.0 in /usr/local/lib/python3.10/dist-packages (from gymnasium>=0.28.1->mani_skill2_real2sim==0.5.3) (4.12.1)\n",
            "Collecting farama-notifications>=0.0.1 (from gymnasium>=0.28.1->mani_skill2_real2sim==0.5.3)\n",
            "  Downloading Farama_Notifications-0.0.4-py3-none-any.whl (2.5 kB)\n",
            "Collecting gitdb<5,>=4.0.1 (from GitPython->mani_skill2_real2sim==0.5.3)\n",
            "  Downloading gitdb-4.0.11-py3-none-any.whl (62 kB)\n",
            "\u001b[2K     \u001b[90m━━━━━━━━━━━━━━━━━━━━━━━━━━━━━━━━━━━━━━━━\u001b[0m \u001b[32m62.7/62.7 kB\u001b[0m \u001b[31m9.3 MB/s\u001b[0m eta \u001b[36m0:00:00\u001b[0m\n",
            "\u001b[?25hRequirement already satisfied: pillow<10.1.0,>=8.3.2 in /usr/local/lib/python3.10/dist-packages (from imageio->mani_skill2_real2sim==0.5.3) (9.4.0)\n",
            "Requirement already satisfied: imageio-ffmpeg in /usr/local/lib/python3.10/dist-packages (from imageio->mani_skill2_real2sim==0.5.3) (0.5.1)\n",
            "Requirement already satisfied: psutil in /usr/local/lib/python3.10/dist-packages (from imageio->mani_skill2_real2sim==0.5.3) (5.9.5)\n",
            "Collecting smmap<6,>=3.0.1 (from gitdb<5,>=4.0.1->GitPython->mani_skill2_real2sim==0.5.3)\n",
            "  Downloading smmap-5.0.1-py3-none-any.whl (24 kB)\n",
            "Requirement already satisfied: charset-normalizer<4,>=2 in /usr/local/lib/python3.10/dist-packages (from requests>=2.22->sapien==2.2.2->mani_skill2_real2sim==0.5.3) (3.3.2)\n",
            "Requirement already satisfied: idna<4,>=2.5 in /usr/local/lib/python3.10/dist-packages (from requests>=2.22->sapien==2.2.2->mani_skill2_real2sim==0.5.3) (3.7)\n",
            "Requirement already satisfied: urllib3<3,>=1.21.1 in /usr/local/lib/python3.10/dist-packages (from requests>=2.22->sapien==2.2.2->mani_skill2_real2sim==0.5.3) (2.0.7)\n",
            "Requirement already satisfied: certifi>=2017.4.17 in /usr/local/lib/python3.10/dist-packages (from requests>=2.22->sapien==2.2.2->mani_skill2_real2sim==0.5.3) (2024.6.2)\n",
            "Requirement already satisfied: soupsieve>1.2 in /usr/local/lib/python3.10/dist-packages (from beautifulsoup4->gdown>=4.6.0->mani_skill2_real2sim==0.5.3) (2.5)\n",
            "Requirement already satisfied: setuptools in /usr/local/lib/python3.10/dist-packages (from imageio-ffmpeg->imageio->mani_skill2_real2sim==0.5.3) (67.7.2)\n",
            "Requirement already satisfied: PySocks!=1.5.7,>=1.5.6 in /usr/local/lib/python3.10/dist-packages (from requests>=2.22->sapien==2.2.2->mani_skill2_real2sim==0.5.3) (1.7.1)\n",
            "Building wheels for collected packages: mani_skill2_real2sim\n",
            "  Building editable for mani_skill2_real2sim (pyproject.toml) ... \u001b[?25l\u001b[?25hdone\n",
            "  Created wheel for mani_skill2_real2sim: filename=mani_skill2_real2sim-0.5.3-0.editable-py3-none-any.whl size=7554 sha256=5ced3b401927479dd1b21b348766f7b3b3b3926a63ab4c51553c25d6066a1c4b\n",
            "  Stored in directory: /tmp/pip-ephem-wheel-cache-lwxhwyz_/wheels/7e/fc/86/d97615ba40989f65e9cf34bff71e4f1b1fa5693fd657dcba8a\n",
            "Successfully built mani_skill2_real2sim\n",
            "Installing collected packages: farama-notifications, trimesh, transforms3d, smmap, ruckig, rtree, gymnasium, sapien, gitdb, GitPython, mani_skill2_real2sim\n",
            "Successfully installed GitPython-3.1.43 farama-notifications-0.0.4 gitdb-4.0.11 gymnasium-0.29.1 mani_skill2_real2sim-0.5.3 rtree-1.2.0 ruckig-0.12.2 sapien-2.2.2 smmap-5.0.1 transforms3d-0.4.1 trimesh-4.4.0\n",
            "Cloning into 'SimplerEnv'...\n",
            "remote: Enumerating objects: 1526, done.\u001b[K\n",
            "remote: Counting objects: 100% (258/258), done.\u001b[K\n",
            "remote: Compressing objects: 100% (106/106), done.\u001b[K\n",
            "remote: Total 1526 (delta 158), reused 246 (delta 152), pack-reused 1268\u001b[K\n",
            "Receiving objects: 100% (1526/1526), 15.89 MiB | 12.06 MiB/s, done.\n",
            "Resolving deltas: 100% (1049/1049), done.\n",
            "Obtaining file:///content/mbodied-agents/SimplerEnv\n",
            "  Installing build dependencies ... \u001b[?25l\u001b[?25hdone\n",
            "  Checking if build backend supports build_editable ... \u001b[?25l\u001b[?25hdone\n",
            "  Getting requirements to build editable ... \u001b[?25l\u001b[?25hdone\n",
            "  Preparing editable metadata (pyproject.toml) ... \u001b[?25l\u001b[?25hdone\n",
            "Building wheels for collected packages: simpler_env\n",
            "  Building editable for simpler_env (pyproject.toml) ... \u001b[?25l\u001b[?25hdone\n",
            "  Created wheel for simpler_env: filename=simpler_env-0.0.1-0.editable-py3-none-any.whl size=3558 sha256=32b51898df817df04b409843bec8b2141072bea49b462bcab09b513d44d7a2b2\n",
            "  Stored in directory: /tmp/pip-ephem-wheel-cache-9inz2omo/wheels/2c/19/da/aecea7f25a71f43ee7ac1027624c3c40bd23aeae6906bed9da\n",
            "Successfully built simpler_env\n",
            "Installing collected packages: simpler_env\n",
            "Successfully installed simpler_env-0.0.1\n"
          ]
        }
      ]
    },
    {
      "cell_type": "code",
      "source": [
        "# @title Install other requirements\n",
        "!pip install --quiet mediapy"
      ],
      "metadata": {
        "id": "QzH7FyNIvCeV",
        "colab": {
          "base_uri": "https://localhost:8080/"
        },
        "outputId": "d9dab2b3-f1eb-4111-ca1c-5565ecb2bbdf"
      },
      "execution_count": 7,
      "outputs": [
        {
          "output_type": "stream",
          "name": "stdout",
          "text": [
            "\u001b[?25l     \u001b[90m━━━━━━━━━━━━━━━━━━━━━━━━━━━━━━━━━━━━━━━━\u001b[0m \u001b[32m0.0/1.6 MB\u001b[0m \u001b[31m?\u001b[0m eta \u001b[36m-:--:--\u001b[0m\r\u001b[2K     \u001b[91m━━━━━━━━━━━━━━━━━━━━━━━\u001b[0m\u001b[90m╺\u001b[0m\u001b[90m━━━━━━━━━━━━━━━━\u001b[0m \u001b[32m0.9/1.6 MB\u001b[0m \u001b[31m27.3 MB/s\u001b[0m eta \u001b[36m0:00:01\u001b[0m\r\u001b[2K     \u001b[90m━━━━━━━━━━━━━━━━━━━━━━━━━━━━━━━━━━━━━━━━\u001b[0m \u001b[32m1.6/1.6 MB\u001b[0m \u001b[31m27.7 MB/s\u001b[0m eta \u001b[36m0:00:00\u001b[0m\n",
            "\u001b[?25h"
          ]
        }
      ]
    },
    {
      "cell_type": "code",
      "source": [
        "# @title [Important]Post Installation\n",
        "\n",
        "# run this so local pip installs are recognized\n",
        "import site\n",
        "site.main()"
      ],
      "metadata": {
        "id": "70DtB-NCvEou"
      },
      "execution_count": 8,
      "outputs": []
    },
    {
      "cell_type": "markdown",
      "source": [
        "## Import all neccessary packages\n",
        "\n",
        "Note that we are not importing the audio handler here in the Colab. We are going to use keyboard and screen for IO."
      ],
      "metadata": {
        "id": "I7Cy6Ebfko5K"
      }
    },
    {
      "cell_type": "code",
      "execution_count": 9,
      "metadata": {
        "id": "LkZpStln9Lrw"
      },
      "outputs": [],
      "source": [
        "import os\n",
        "import logging\n",
        "\n",
        "import click\n",
        "from pydantic import Field\n",
        "from pydantic_core import from_json\n",
        "from gym import spaces\n",
        "\n",
        "import sys\n",
        "sys.path.append(os.getcwd())\n",
        "sys.path.append(os.path.join(os.getcwd(), 'src'))\n",
        "\n",
        "from mbodied_agents.agents.language import CognitiveAgent\n",
        "# For this colab example, we are not using audio IO.\n",
        "# from mbodied_agents.agents.sense.audio_handler import AudioHandler\n",
        "from mbodied_agents.base.sample import Sample\n",
        "from mbodied_agents.hardware.sim_interface import SimInterface\n",
        "from mbodied_agents.types.controls import HandControl\n",
        "from mbodied_agents.types.vision import Image\n",
        "from mbodied_agents.data.recording import Recorder"
      ]
    },
    {
      "cell_type": "markdown",
      "source": [
        "## Define a Sample for your robot agent's output.\n",
        "\n",
        "This can be customized to be anything you like. In this example, we have an answer field, which is what the robot speaks to you, and a list of hand controls (X,Y,Z,R,P,Y) which is the end effector delta for robot's hand. Sample can be converted to gym space easily."
      ],
      "metadata": {
        "id": "aatePPcqiHIy"
      }
    },
    {
      "cell_type": "code",
      "execution_count": 10,
      "metadata": {
        "id": "Q8cg-L116hGz",
        "colab": {
          "base_uri": "https://localhost:8080/"
        },
        "outputId": "f0c561cc-5da7-4a52-8c3c-c377ecdb2d82"
      },
      "outputs": [
        {
          "output_type": "stream",
          "name": "stderr",
          "text": [
            "/usr/local/lib/python3.10/dist-packages/ipykernel/ipkernel.py:283: DeprecationWarning: `should_run_async` will not call `transform_cell` automatically in the future. Please pass the result to `transformed_cell` argument and any exception that happen during thetransform in `preprocessing_exc_tuple` in IPython 7.17 and above.\n",
            "  and should_run_async(code)\n"
          ]
        }
      ],
      "source": [
        "class AnswerAndActionsList(Sample):\n",
        "    \"\"\"A customized pydantic type for robot's reply and actions.\"\"\"\n",
        "    answer: str | None = Field(\n",
        "        default=\"\",\n",
        "        description=\"Short, one sentence answer to user's question or request.\",\n",
        "    )\n",
        "    actions: list[HandControl] | None = Field(\n",
        "        default=[],\n",
        "        description=\"List of actions to be taken by the robot.\",\n",
        "    )\n"
      ]
    },
    {
      "cell_type": "markdown",
      "source": [
        "## Initialize the Cognitive Agent\n",
        "\n",
        "Cognitive Agent is the entry point for your intelligent robot. It's responsible of handling the planning, reasoning, or action output. You may even have multiple Cognitive Agent in parallel handling different aspect for your robot, i.e. planning, motion control, sensory, etc.\n",
        "\n",
        "For the simplest example, we can use OpenAI's GPT for the cognitive Agent here. Anthropic is also supported here.\n",
        "\n",
        "Mbodi's backend and HuggingFace backend is also upcoming.\n",
        "\n",
        "The system prompt is minimal. You can provide more context if you like."
      ],
      "metadata": {
        "id": "Oj1PhQMIiv1A"
      }
    },
    {
      "cell_type": "code",
      "execution_count": 11,
      "metadata": {
        "colab": {
          "base_uri": "https://localhost:8080/"
        },
        "id": "RbKW31iJ6hIp",
        "outputId": "33e50266-6c06-454b-8670-1afee57d2ac7"
      },
      "outputs": [
        {
          "output_type": "stream",
          "name": "stdout",
          "text": [
            "Welcome to\n",
            " __  __  _                 _  _ \n",
            "|  \\/  || |__    ___    __| |(_)\n",
            "| |\\/| || '_ \\  / _ \\  / _` || |\n",
            "| |  | || |_) || (_) || (_| || |\n",
            "|_|  |_||_.__/  \\___/  \\__,_||_|\n",
            "                                \n",
            "\n",
            "A platform for intelligent embodied agents.\n",
            "\n",
            "\n",
            "Initializing cognitive agent for robot using backend: openai\n"
          ]
        }
      ],
      "source": [
        "openai_api_key = \"your openai api key here\"\n",
        "\n",
        "SYSTEM_PROMPT = f\"\"\"\n",
        "    You are robot with vision capabilities.\n",
        "    For each task given, you respond in JSON format. Here's the JSON schema:\n",
        "    {AnswerAndActionsList.model_json_schema()}\n",
        "    \"\"\"\n",
        "\n",
        "robot_agent = CognitiveAgent(context=SYSTEM_PROMPT, api_service=\"openai\", api_key=openai_api_key)\n",
        "\n",
        "# No audio for this Colab\n",
        "# audio = AudioHandler(use_pyaudio=False)"
      ]
    },
    {
      "cell_type": "markdown",
      "source": [
        "## Define data Recorder\n",
        "\n",
        "Initialize data recorder for every conversation and every action.\n",
        "A new dataset is created each time you interact, teach or train the robot.\n",
        "Available for further augmentation finetuning and model training.\n",
        "\n",
        "Note that we use the gym space here. You can also customize this to be type/format you like.\n"
      ],
      "metadata": {
        "id": "Z_tvP85ikBoT"
      }
    },
    {
      "cell_type": "code",
      "execution_count": 12,
      "metadata": {
        "colab": {
          "base_uri": "https://localhost:8080/"
        },
        "id": "tjmZZqpj98OJ",
        "outputId": "d4cacfb0-ffee-42bb-f62f-8d13c83e372b"
      },
      "outputs": [
        {
          "output_type": "stream",
          "name": "stdout",
          "text": [
            "\n",
            "Initializing dataset recorder...\n",
            "Recording dataset to saved_datasets/example_recorder.h5\n",
            "To learn more about how to use this dataset, augment the data, train/finetune a foundational model, please go to: https://forms.gle/rv5rovK93dLucma37\n",
            "\n"
          ]
        },
        {
          "output_type": "stream",
          "name": "stderr",
          "text": [
            "/usr/local/lib/python3.10/dist-packages/gym/utils/seeding.py:63: DeprecationWarning: \u001b[33mWARN: Function `rng.randint(low, [high, size, dtype])` is marked as deprecated and will be removed in the future. Please use `rng.integers(low, [high, size, dtype])` instead.\u001b[0m\n",
            "  deprecation(\n"
          ]
        }
      ],
      "source": [
        "observation_space = spaces.Dict({\n",
        "    'image': Image(size=(224, 224)).space(),\n",
        "    'instruction': spaces.Text(1000)\n",
        "})\n",
        "action_space = AnswerAndActionsList(actions=[HandControl()] * 6).space()\n",
        "recorder = Recorder('example_recorder',\n",
        "                    out_dir='saved_datasets',\n",
        "                    observation_space=observation_space,\n",
        "                    action_space=action_space)"
      ]
    },
    {
      "cell_type": "markdown",
      "metadata": {
        "id": "a4iFXGjmI2AJ"
      },
      "source": [
        "## Initializing and Resetting the Robotic Task Environment"
      ]
    },
    {
      "cell_type": "code",
      "source": [
        "import simpler_env\n",
        "from simpler_env.utils.env.observation_utils import get_image_from_maniskill2_obs_dict\n",
        "import mediapy\n",
        "import sapien.core as sapien\n",
        "import numpy as np\n",
        "\n",
        "task_name = \"google_robot_pick_coke_can\"  # @param [\"google_robot_pick_coke_can\", \"google_robot_move_near\", \"google_robot_open_drawer\", \"google_robot_close_drawer\", \"widowx_spoon_on_towel\", \"widowx_carrot_on_plate\", \"widowx_stack_cube\", \"widowx_put_eggplant_in_basket\"]\n",
        "\n",
        "if 'env' in locals():\n",
        "  print(\"Closing existing env\")\n",
        "  env.close()\n",
        "  del env\n",
        "env = simpler_env.make(task_name)\n",
        "\n",
        "# Note: we turned off the denoiser as the colab kernel will crash if it's turned on\n",
        "# To use the denoiser, please git clone our SIMPLER environments\n",
        "# and perform evaluations locally.\n",
        "sapien.render_config.rt_use_denoiser = False\n",
        "\n",
        "obs, reset_info = env.reset()\n",
        "print(\"Reset info\", reset_info)\n"
      ],
      "metadata": {
        "id": "j6m4UFfpyXdb",
        "colab": {
          "base_uri": "https://localhost:8080/"
        },
        "outputId": "0f0f9278-2ceb-4d44-c3aa-6cb1b21072dc"
      },
      "execution_count": 18,
      "outputs": [
        {
          "output_type": "stream",
          "name": "stdout",
          "text": [
            "Closing existing env\n",
            "Reset info {'scene_name': 'google_pick_coke_can_1_v4', 'scene_offset': None, 'scene_pose': None, 'scene_table_height': 0.87, 'urdf_version': 'recolor_tabletop_visual_matching_1', 'rgb_overlay_path': '/content/mbodied-agents/ManiSkill2_real2sim/data/real_inpainting/google_coke_can_real_eval_1.png', 'rgb_overlay_cameras': ['overhead_camera'], 'rgb_overlay_mode': 'background', 'disable_bad_material': False, 'model_id': 'opened_coke_can', 'model_scale': 1.0, 'distractor_model_ids': None, 'distractor_model_scales': None, 'obj_init_pose_wrt_robot_base': Pose([0.587925, -0.0238302, 0.840576], [0.707052, -0.0081018, -0.01162, -0.70702]), 'orientation': 'laid_vertically'}\n"
          ]
        }
      ]
    },
    {
      "cell_type": "markdown",
      "source": [
        "## Simulating Cognitive Agent Interaction with SimplerEnv\n",
        "In this section, we'll demonstrate how to interact with the SimplerEnv environment using a cognitive agent. The agent will receive instructions, process them, and execute corresponding actions within the simulation. This example uses a simple loop to simulate the agent's decision-making process and visualize the results."
      ],
      "metadata": {
        "id": "ojG73uaOlrSt"
      }
    },
    {
      "cell_type": "code",
      "source": [
        "done, truncated = False, False\n",
        "\n",
        "#\n",
        "timestep = 0\n",
        "num_iteration = 5\n",
        "\n",
        "image = get_image_from_maniskill2_obs_dict(env, obs)\n",
        "images = [image]\n",
        "\n",
        "while not (done or truncated):\n",
        "    # instruction = audio.listen()\n",
        "    # instruction = input(\"Please type your instruction: \")\n",
        "    instruction = \"Move Left\"\n",
        "    print(\"[YOU SAID]:\", instruction)\n",
        "    if instruction == \"exit\":\n",
        "      break\n",
        "\n",
        "    # Get response from the cognitive agent based on the instruction and image\n",
        "    response = robot_agent.act(instruction, image)[0]\n",
        "    response = response.replace(\"```json\", \"\").replace(\"```\", \"\")\n",
        "    print(\"Response:\", response)\n",
        "\n",
        "    # Validate the response to the pydantic object.\n",
        "    answer_actions = AnswerAndActionsList.model_validate(from_json(response))\n",
        "\n",
        "    # Let the robot speak.\n",
        "    if answer_actions.answer:\n",
        "        # audio.speak(answer_actions.answer)\n",
        "        print(\"[ROBOT SPEAKS]:\", answer_actions.answer)\n",
        "\n",
        "    # Execute the actions with the SimplerEnv Interface\n",
        "    if answer_actions.actions:\n",
        "        for action in answer_actions.actions:\n",
        "            obs, reward, done, truncated, info = env.step(np.array(action.flatten('list')))\n",
        "\n",
        "    print(timestep, info)\n",
        "    # update image observation\n",
        "    image = get_image_from_maniskill2_obs_dict(env, obs)\n",
        "    images.append(image)\n",
        "    timestep += 1\n",
        "\n",
        "    # Record the dataset for training.\n",
        "    recorder.record(observation={\n",
        "        'image': Image(image, size=(224,224)),\n",
        "        'instruction': instruction,\n",
        "    }, action=answer_actions)\n",
        "\n",
        "    if timestep > num_iteration:\n",
        "      done = True\n",
        "\n",
        "episode_stats = info.get('episode_stats', {})\n",
        "print(\"Episode stats\", episode_stats)\n",
        "mediapy.show_video(images, fps=10)"
      ],
      "metadata": {
        "id": "Tuv3LQe9Ab_u",
        "colab": {
          "base_uri": "https://localhost:8080/",
          "height": 1000
        },
        "outputId": "d9655509-d9a6-4fcc-b665-e643f0d02322"
      },
      "execution_count": 19,
      "outputs": [
        {
          "output_type": "stream",
          "name": "stdout",
          "text": [
            "[YOU SAID]: Move Left\n",
            "Response: \n",
            "{\n",
            "  \"answer\": \"Moving left.\",\n",
            "  \"actions\": [\n",
            "    {\n",
            "      \"pose\": {\n",
            "        \"x\": 0,\n",
            "        \"y\": 0.5,\n",
            "        \"z\": 0,\n",
            "        \"roll\": 0,\n",
            "        \"pitch\": 0,\n",
            "        \"yaw\": 0\n",
            "      },\n",
            "      \"grasp\": {\n",
            "        \"value\": 1\n",
            "      }\n",
            "    }\n",
            "  ]\n",
            "}\n",
            "\n",
            "[ROBOT SPEAKS]: Moving left.\n",
            "0 {'elapsed_steps': 1, 'is_grasped': False, 'consecutive_grasp': False, 'lifted_object': False, 'lifted_object_significantly': False, 'success': False, 'episode_stats': OrderedDict([('n_lift_significant', 0), ('consec_grasp', False), ('grasped', False)])}\n",
            "[YOU SAID]: Move Left\n",
            "Response: \n",
            "{\n",
            "  \"answer\": \"Moving left.\",\n",
            "  \"actions\": [\n",
            "    {\n",
            "      \"pose\": {\n",
            "        \"x\": 0,\n",
            "        \"y\": 0.5,\n",
            "        \"z\": 0,\n",
            "        \"roll\": 0,\n",
            "        \"pitch\": 0,\n",
            "        \"yaw\": 0\n",
            "      },\n",
            "      \"grasp\": {\n",
            "        \"value\": 1\n",
            "      }\n",
            "    }\n",
            "  ]\n",
            "}\n",
            "\n",
            "[ROBOT SPEAKS]: Moving left.\n",
            "1 {'elapsed_steps': 2, 'is_grasped': False, 'consecutive_grasp': False, 'lifted_object': False, 'lifted_object_significantly': False, 'success': False, 'episode_stats': OrderedDict([('n_lift_significant', 0), ('consec_grasp', False), ('grasped', False)])}\n",
            "[YOU SAID]: Move Left\n",
            "Response: \n",
            "{\n",
            "  \"answer\": \"Moving left.\",\n",
            "  \"actions\": [\n",
            "    {\n",
            "      \"pose\": {\n",
            "        \"x\": 0,\n",
            "        \"y\": 0.5,\n",
            "        \"z\": 0,\n",
            "        \"roll\": 0,\n",
            "        \"pitch\": 0,\n",
            "        \"yaw\": 0\n",
            "      },\n",
            "      \"grasp\": {\n",
            "        \"value\": 1\n",
            "      }\n",
            "    }\n",
            "  ]\n",
            "}\n",
            "\n",
            "[ROBOT SPEAKS]: Moving left.\n",
            "2 {'elapsed_steps': 3, 'is_grasped': False, 'consecutive_grasp': False, 'lifted_object': False, 'lifted_object_significantly': False, 'success': False, 'episode_stats': OrderedDict([('n_lift_significant', 0), ('consec_grasp', False), ('grasped', False)])}\n",
            "[YOU SAID]: Move Left\n",
            "Response: \n",
            "{\n",
            "  \"answer\": \"Moving left.\",\n",
            "  \"actions\": [\n",
            "    {\n",
            "      \"pose\": {\n",
            "        \"x\": 0,\n",
            "        \"y\": 0.5,\n",
            "        \"z\": 0,\n",
            "        \"roll\": 0,\n",
            "        \"pitch\": 0,\n",
            "        \"yaw\": 0\n",
            "      },\n",
            "      \"grasp\": {\n",
            "        \"value\": 1\n",
            "      }\n",
            "    }\n",
            "  ]\n",
            "}\n",
            "\n",
            "[ROBOT SPEAKS]: Moving left.\n",
            "3 {'elapsed_steps': 4, 'is_grasped': False, 'consecutive_grasp': False, 'lifted_object': False, 'lifted_object_significantly': False, 'success': False, 'episode_stats': OrderedDict([('n_lift_significant', 0), ('consec_grasp', False), ('grasped', False)])}\n",
            "[YOU SAID]: Move Left\n",
            "Response: \n",
            "{\n",
            "  \"answer\": \"Moving left.\",\n",
            "  \"actions\": [\n",
            "    {\n",
            "      \"pose\": {\n",
            "        \"x\": 0,\n",
            "        \"y\": 0.5,\n",
            "        \"z\": 0,\n",
            "        \"roll\": 0,\n",
            "        \"pitch\": 0,\n",
            "        \"yaw\": 0\n",
            "      },\n",
            "      \"grasp\": {\n",
            "        \"value\": 1\n",
            "      }\n",
            "    }\n",
            "  ]\n",
            "}\n",
            "\n",
            "[ROBOT SPEAKS]: Moving left.\n",
            "4 {'elapsed_steps': 5, 'is_grasped': False, 'consecutive_grasp': False, 'lifted_object': False, 'lifted_object_significantly': False, 'success': False, 'episode_stats': OrderedDict([('n_lift_significant', 0), ('consec_grasp', False), ('grasped', False)])}\n",
            "[YOU SAID]: Move Left\n",
            "Response: \n",
            "{\n",
            "  \"answer\": \"Moving left.\",\n",
            "  \"actions\": [\n",
            "    {\n",
            "      \"pose\": {\n",
            "        \"x\": 0,\n",
            "        \"y\": 0.5,\n",
            "        \"z\": 0,\n",
            "        \"roll\": 0,\n",
            "        \"pitch\": 0,\n",
            "        \"yaw\": 0\n",
            "      },\n",
            "      \"grasp\": {\n",
            "        \"value\": 1\n",
            "      }\n",
            "    }\n",
            "  ]\n",
            "}\n",
            "\n",
            "[ROBOT SPEAKS]: Moving left.\n",
            "5 {'elapsed_steps': 6, 'is_grasped': False, 'consecutive_grasp': False, 'lifted_object': False, 'lifted_object_significantly': False, 'success': False, 'episode_stats': OrderedDict([('n_lift_significant', 0), ('consec_grasp', False), ('grasped', False)])}\n",
            "Episode stats OrderedDict([('n_lift_significant', 0), ('consec_grasp', False), ('grasped', False)])\n"
          ]
        },
        {
          "output_type": "display_data",
          "data": {
            "text/plain": [
              "<IPython.core.display.HTML object>"
            ],
            "text/html": [
              "<table class=\"show_videos\" style=\"border-spacing:0px;\"><tr><td style=\"padding:1px;\"><video controls width=\"640\" height=\"512\" style=\"object-fit:cover;\" loop autoplay muted>\n",
              "      <source src=\"data:video/mp4;base64,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\" type=\"video/mp4\"/>\n",
              "      This browser does not support the video tag.\n",
              "      </video></td></tr></table>"
            ]
          },
          "metadata": {}
        }
      ]
    }
  ],
  "metadata": {
    "colab": {
      "provenance": [],
      "gpuType": "L4",
      "machine_shape": "hm"
    },
    "kernelspec": {
      "display_name": "Python 3",
      "name": "python3"
    },
    "language_info": {
      "name": "python"
    },
    "accelerator": "GPU"
  },
  "nbformat": 4,
  "nbformat_minor": 0
}